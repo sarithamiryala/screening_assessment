{
 "cells": [
  {
   "cell_type": "code",
   "execution_count": 31,
   "id": "926bd973",
   "metadata": {},
   "outputs": [],
   "source": [
    "def replace_data(filename,orgi,repla):\n",
    "    fin = open(filename,'rt')\n",
    "    data = fin.read()\n",
    "    print(data)\n",
    "    data = data.replace(orgi,repla)\n",
    "    fin.close()\n",
    "    fin = open(filename,'w')\n",
    "    fin.write(data)\n",
    "    fin.close()\n",
    "    file =  open(filename,'r')\n",
    "    data1 = file.read()\n",
    "    print(data1) "
   ]
  },
  {
   "cell_type": "code",
   "execution_count": 32,
   "id": "8470762d",
   "metadata": {},
   "outputs": [
    {
     "name": "stdout",
     "output_type": "stream",
     "text": [
      "This is programming assessment\n",
      "This is screening assessment\n"
     ]
    }
   ],
   "source": [
    "replace_data('example.txt','programming','screening')"
   ]
  },
  {
   "cell_type": "code",
   "execution_count": 16,
   "id": "74aabe70",
   "metadata": {},
   "outputs": [
    {
     "name": "stdout",
     "output_type": "stream",
     "text": [
      "\n"
     ]
    }
   ],
   "source": [
    " # Queustion 2"
   ]
  },
  {
   "cell_type": "markdown",
   "id": "296c0a2d",
   "metadata": {},
   "source": [
    "\n",
    "Decorators in python is a function that takes another function as its argument and returns another function. Decorators are used as extension of existing function, without any modification to the original function source code."
   ]
  },
  {
   "cell_type": "code",
   "execution_count": 36,
   "id": "959ac38f",
   "metadata": {},
   "outputs": [],
   "source": [
    "# program to always divide the greater number by smaller number using decorator\n",
    "def div(a,b):\n",
    "    print(a/b)\n",
    "    \n",
    "def smart_div(func):\n",
    "    def inner(a,b):\n",
    "        if a<b:\n",
    "            a,b=b,a \n",
    "            # swap the numbers if a is less than b\n",
    "            return func(a,b)\n",
    "    return inner"
   ]
  },
  {
   "cell_type": "code",
   "execution_count": 37,
   "id": "9fb621bc",
   "metadata": {},
   "outputs": [],
   "source": [
    "d = smart_div(div)"
   ]
  },
  {
   "cell_type": "code",
   "execution_count": 35,
   "id": "58aa1372",
   "metadata": {},
   "outputs": [],
   "source": [
    "# multiple inheritance"
   ]
  },
  {
   "cell_type": "markdown",
   "id": "2ce871a8",
   "metadata": {},
   "source": [
    "If a class inherits from two or more classes, then it is called multiple inheritance"
   ]
  },
  {
   "cell_type": "code",
   "execution_count": null,
   "id": "a8f05075",
   "metadata": {},
   "outputs": [],
   "source": [
    "class ChildClass(ParentClass1, ParentClass2,ParentClass3):\n",
    "    pass"
   ]
  },
  {
   "cell_type": "code",
   "execution_count": 39,
   "id": "24ea3ab5",
   "metadata": {},
   "outputs": [],
   "source": [
    "class Human:\n",
    "    def __init__(self,age,name):\n",
    "        self.name = name\n",
    "        self.age = age\n",
    "class Dancer:\n",
    "    def __init__(self, style):\n",
    "        self.style = style\n",
    "#Multiple inheritance       \n",
    "class Student(Human,Dancer):\n",
    "    def __init__(self,age,name,style):\n",
    "        Human.__init__(self,age,name)\n",
    "        Dancer.__init__(self,style)"
   ]
  },
  {
   "cell_type": "code",
   "execution_count": 40,
   "id": "efb735ae",
   "metadata": {},
   "outputs": [],
   "source": [
    "obj1 = Student(20,'Saritha','Classic')"
   ]
  },
  {
   "cell_type": "code",
   "execution_count": 41,
   "id": "94b1b2a7",
   "metadata": {},
   "outputs": [
    {
     "data": {
      "text/plain": [
       "'Classic'"
      ]
     },
     "execution_count": 41,
     "metadata": {},
     "output_type": "execute_result"
    }
   ],
   "source": [
    "obj1.style"
   ]
  },
  {
   "cell_type": "code",
   "execution_count": 42,
   "id": "421dd195",
   "metadata": {},
   "outputs": [
    {
     "data": {
      "text/plain": [
       "20"
      ]
     },
     "execution_count": 42,
     "metadata": {},
     "output_type": "execute_result"
    }
   ],
   "source": [
    "obj1.age"
   ]
  },
  {
   "cell_type": "code",
   "execution_count": 43,
   "id": "448087f5",
   "metadata": {},
   "outputs": [
    {
     "data": {
      "text/plain": [
       "'Saritha'"
      ]
     },
     "execution_count": 43,
     "metadata": {},
     "output_type": "execute_result"
    }
   ],
   "source": [
    "obj1.name"
   ]
  },
  {
   "cell_type": "code",
   "execution_count": null,
   "id": "5211191f",
   "metadata": {},
   "outputs": [],
   "source": [
    "# Abstract Class"
   ]
  },
  {
   "cell_type": "markdown",
   "id": "f43f8710",
   "metadata": {},
   "source": [
    "An Abstract class is blue print for other classes. It allows you to create within any child classes bulit from the abstract class.\n",
    "\n",
    "the methods which have declaration but no body is called abstract method"
   ]
  },
  {
   "cell_type": "code",
   "execution_count": 44,
   "id": "90e8bff6",
   "metadata": {},
   "outputs": [],
   "source": [
    "from abc import ABC, abstractmethod\n",
    "class Computer:\n",
    "    # Abstract method\n",
    "    @abstractmethod\n",
    "    def process(self):\n",
    "        pass\n",
    "class Laptop(Computer):\n",
    "    pass"
   ]
  },
  {
   "cell_type": "code",
   "execution_count": 45,
   "id": "298828e2",
   "metadata": {},
   "outputs": [],
   "source": [
    "# we cannot create object of abstract class\n",
    "com = Computer()\n",
    "com.process()"
   ]
  },
  {
   "cell_type": "code",
   "execution_count": null,
   "id": "daf8ea2e",
   "metadata": {},
   "outputs": [],
   "source": []
  }
 ],
 "metadata": {
  "kernelspec": {
   "display_name": "Python 3 (ipykernel)",
   "language": "python",
   "name": "python3"
  },
  "language_info": {
   "codemirror_mode": {
    "name": "ipython",
    "version": 3
   },
   "file_extension": ".py",
   "mimetype": "text/x-python",
   "name": "python",
   "nbconvert_exporter": "python",
   "pygments_lexer": "ipython3",
   "version": "3.9.7"
  }
 },
 "nbformat": 4,
 "nbformat_minor": 5
}
