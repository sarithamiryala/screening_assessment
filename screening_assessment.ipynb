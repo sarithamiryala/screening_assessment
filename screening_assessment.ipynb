{
 "cells": [
  {
   "cell_type": "code",
   "execution_count": null,
   "id": "8f8d2146",
   "metadata": {},
   "outputs": [],
   "source": [
    "# Question 1"
   ]
  },
  {
   "cell_type": "code",
   "execution_count": 30,
   "id": "969eefca",
   "metadata": {},
   "outputs": [],
   "source": [
    "#input file\n",
    "fin = open('example.txt','rt')"
   ]
  },
  {
   "cell_type": "code",
   "execution_count": 31,
   "id": "72b87eab",
   "metadata": {},
   "outputs": [],
   "source": [
    "#read file contents to string\n",
    "data = fin.read()"
   ]
  },
  {
   "cell_type": "code",
   "execution_count": 32,
   "id": "e0f5a855",
   "metadata": {},
   "outputs": [
    {
     "data": {
      "text/plain": [
       "'This is programming assesment'"
      ]
     },
     "execution_count": 32,
     "metadata": {},
     "output_type": "execute_result"
    }
   ],
   "source": [
    "data"
   ]
  },
  {
   "cell_type": "code",
   "execution_count": 33,
   "id": "7372bf8d",
   "metadata": {},
   "outputs": [],
   "source": [
    "#replacing programming with screening\n",
    "data = data.replace('programming','screening')"
   ]
  },
  {
   "cell_type": "code",
   "execution_count": 34,
   "id": "94d04c2b",
   "metadata": {},
   "outputs": [],
   "source": [
    "fin.close()"
   ]
  },
  {
   "cell_type": "code",
   "execution_count": 35,
   "id": "edea134b",
   "metadata": {},
   "outputs": [
    {
     "data": {
      "text/plain": [
       "27"
      ]
     },
     "execution_count": 35,
     "metadata": {},
     "output_type": "execute_result"
    }
   ],
   "source": [
    "fin = open('example.txt','wt')\n",
    "fin.write(data)"
   ]
  },
  {
   "cell_type": "code",
   "execution_count": 36,
   "id": "e5af0b91",
   "metadata": {},
   "outputs": [],
   "source": [
    "fin.close()\n"
   ]
  },
  {
   "cell_type": "code",
   "execution_count": 37,
   "id": "b7cfea5a",
   "metadata": {},
   "outputs": [],
   "source": [
    "file =  open('example.txt','r')"
   ]
  },
  {
   "cell_type": "code",
   "execution_count": 38,
   "id": "adb56c43",
   "metadata": {},
   "outputs": [
    {
     "data": {
      "text/plain": [
       "'This is screening assesment'"
      ]
     },
     "execution_count": 38,
     "metadata": {},
     "output_type": "execute_result"
    }
   ],
   "source": [
    "file.read()"
   ]
  },
  {
   "cell_type": "code",
   "execution_count": null,
   "id": "29a1c32c",
   "metadata": {},
   "outputs": [],
   "source": [
    "# Queustion 2"
   ]
  },
  {
   "cell_type": "markdown",
   "id": "96e49c98",
   "metadata": {},
   "source": [
    "Decorators in python is a function that takes another function as its argument and returns another function. Decorators are used as extension of existing function, without any modification to the original function source code."
   ]
  },
  {
   "cell_type": "code",
   "execution_count": 1,
   "id": "a69808e8",
   "metadata": {},
   "outputs": [],
   "source": [
    "# program to always divide the greater number by smaller number using decorator\n",
    "def div(a,b):\n",
    "    print(a/b)\n",
    "    \n",
    "def smart_div(func):\n",
    "    def inner(a,b):\n",
    "        if a<b:\n",
    "            a,b=b,a \n",
    "            # swap the numbers if a is less than b\n",
    "            return func(a,b)\n",
    "    return inner\n"
   ]
  },
  {
   "cell_type": "code",
   "execution_count": 2,
   "id": "eb4d1ad0",
   "metadata": {},
   "outputs": [],
   "source": [
    "d = smart_div(div)"
   ]
  },
  {
   "cell_type": "code",
   "execution_count": null,
   "id": "a7e4e087",
   "metadata": {},
   "outputs": [],
   "source": [
    "# multiple inheritance"
   ]
  },
  {
   "cell_type": "markdown",
   "id": "d5bb8c05",
   "metadata": {},
   "source": [
    "If a class inherits from two or more classes, then it is called multiple inheritance"
   ]
  },
  {
   "cell_type": "code",
   "execution_count": null,
   "id": "9dfcf822",
   "metadata": {},
   "outputs": [],
   "source": [
    "class ChildClass(ParentClass1, ParentClass2,ParentClass3):\n",
    "    pass"
   ]
  },
  {
   "cell_type": "code",
   "execution_count": 6,
   "id": "c91eb079",
   "metadata": {},
   "outputs": [],
   "source": [
    "class Human:\n",
    "    def __init__(self,age,name):\n",
    "        self.name = name\n",
    "        self.age = age\n",
    "class Dancer:\n",
    "    def __init__(self, style):\n",
    "        self.style = style\n",
    "#Multiple inheritance       \n",
    "class Student(Human,Dancer):\n",
    "    def __init__(self,age,name,style):\n",
    "        Human.__init__(self,age,name)\n",
    "        Dancer.__init__(self,style)"
   ]
  },
  {
   "cell_type": "code",
   "execution_count": 7,
   "id": "39500845",
   "metadata": {},
   "outputs": [],
   "source": [
    "obj1 = Student(20,'Saritha','Classic')"
   ]
  },
  {
   "cell_type": "code",
   "execution_count": 8,
   "id": "abc62ec4",
   "metadata": {},
   "outputs": [
    {
     "data": {
      "text/plain": [
       "'Classic'"
      ]
     },
     "execution_count": 8,
     "metadata": {},
     "output_type": "execute_result"
    }
   ],
   "source": [
    "obj1.style"
   ]
  },
  {
   "cell_type": "code",
   "execution_count": 9,
   "id": "4dfd4783",
   "metadata": {},
   "outputs": [
    {
     "data": {
      "text/plain": [
       "20"
      ]
     },
     "execution_count": 9,
     "metadata": {},
     "output_type": "execute_result"
    }
   ],
   "source": [
    "obj1.age"
   ]
  },
  {
   "cell_type": "code",
   "execution_count": 10,
   "id": "ba73fb34",
   "metadata": {},
   "outputs": [
    {
     "data": {
      "text/plain": [
       "'Saritha'"
      ]
     },
     "execution_count": 10,
     "metadata": {},
     "output_type": "execute_result"
    }
   ],
   "source": [
    "obj1.name"
   ]
  },
  {
   "cell_type": "code",
   "execution_count": 11,
   "id": "57e6791d",
   "metadata": {},
   "outputs": [],
   "source": [
    "# Abstract Class"
   ]
  },
  {
   "cell_type": "markdown",
   "id": "1db909ad",
   "metadata": {},
   "source": [
    "An Abstract class is blue print for other classes. It allows you to create within any child classes bulit from the abstract class.\n",
    "\n",
    "the methods which have declaration but no body is called abstract method"
   ]
  },
  {
   "cell_type": "code",
   "execution_count": 21,
   "id": "7f3ecaba",
   "metadata": {},
   "outputs": [],
   "source": [
    "from abc import ABC, abstractmethod\n",
    "class Computer:\n",
    "    # Abstract method\n",
    "    @abstractmethod\n",
    "    def process(self):\n",
    "        pass\n",
    "class Laptop(Computer):\n",
    "    pass"
   ]
  },
  {
   "cell_type": "code",
   "execution_count": 22,
   "id": "1a9605bf",
   "metadata": {},
   "outputs": [],
   "source": [
    "# we cannot create object of abstract class\n",
    "com = Computer()\n",
    "com.process()"
   ]
  },
  {
   "cell_type": "code",
   "execution_count": 23,
   "id": "5e2a6d19",
   "metadata": {},
   "outputs": [],
   "source": []
  },
  {
   "cell_type": "code",
   "execution_count": null,
   "id": "1c3108c6",
   "metadata": {},
   "outputs": [],
   "source": []
  }
 ],
 "metadata": {
  "kernelspec": {
   "display_name": "Python 3 (ipykernel)",
   "language": "python",
   "name": "python3"
  },
  "language_info": {
   "codemirror_mode": {
    "name": "ipython",
    "version": 3
   },
   "file_extension": ".py",
   "mimetype": "text/x-python",
   "name": "python",
   "nbconvert_exporter": "python",
   "pygments_lexer": "ipython3",
   "version": "3.9.7"
  }
 },
 "nbformat": 4,
 "nbformat_minor": 5
}
